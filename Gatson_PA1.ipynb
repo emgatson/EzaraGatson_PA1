{
 "cells": [
  {
   "cell_type": "markdown",
   "id": "72431ee4-bebb-4623-9025-3b738783aa89",
   "metadata": {},
   "source": [
    "NOTEBOOK 1"
   ]
  },
  {
   "cell_type": "code",
   "execution_count": 12,
   "id": "033eacca-8c18-45e1-9566-2d0a97a5bf45",
   "metadata": {},
   "outputs": [
    {
     "name": "stdin",
     "output_type": "stream",
     "text": [
      "Enter a word:  snoe\n"
     ]
    },
    {
     "name": "stdout",
     "output_type": "stream",
     "text": [
      "Original word: snoe\n",
      "Alphabetized word: enos\n"
     ]
    }
   ],
   "source": [
    "word = input(\"Enter a word: \")\n",
    "sorted_word = \"\".join(sorted(word))\n",
    "print(f\"Original word: {word}\")\n",
    "print(f\"Alphabetized word: {sorted_word}\")"
   ]
  },
  {
   "cell_type": "markdown",
   "id": "0ec0f9dd-d401-45fa-bb2b-aed4c72b0842",
   "metadata": {},
   "source": [
    "NOTEBOOK 2"
   ]
  },
  {
   "cell_type": "code",
   "execution_count": 13,
   "id": "8349ca88-e5de-4d36-96e9-ec29b0ba73be",
   "metadata": {},
   "outputs": [
    {
     "name": "stdin",
     "output_type": "stream",
     "text": [
      "Enter a sentence:  I am mad\n"
     ]
    },
    {
     "name": "stdout",
     "output_type": "stream",
     "text": [
      "Converted sentence: I am >:(\n"
     ]
    }
   ],
   "source": [
    "msg = input(\"Enter a sentence: \")\n",
    "emoji_map = {\n",
    "    \"smile\": \":)\",\n",
    "    \"grin\": \":D\",\n",
    "    \"sad\": \":(\",\n",
    "    \"mad\": \">:(\"\n",
    "}\n",
    "\n",
    "for word, emoji in emoji_map.items():\n",
    "    msg = msg.replace(word, emoji)\n",
    "\n",
    "print(\"Converted sentence:\", msg)"
   ]
  },
  {
   "cell_type": "markdown",
   "id": "2e7ab97d-d924-4f3d-b743-33e3723f7748",
   "metadata": {},
   "source": [
    "NOTEBOOK 3"
   ]
  },
  {
   "cell_type": "code",
   "execution_count": 14,
   "id": "d1066de8-60d2-4a4c-8c74-55409d0c2cda",
   "metadata": {},
   "outputs": [
    {
     "name": "stdout",
     "output_type": "stream",
     "text": [
      "First element: 1\n",
      "Middle elements: [2, 3, 4, 5]\n",
      "Last element: 6\n"
     ]
    }
   ],
   "source": [
    "numbers = [1, 2, 3, 4, 5, 6]\n",
    "first, middle, last = numbers[0], numbers[1:-1], numbers[-1]\n",
    "print(\"First element:\", first)\n",
    "print(\"Middle elements:\", middle)\n",
    "print(\"Last element:\", last)"
   ]
  }
 ],
 "metadata": {
  "kernelspec": {
   "display_name": "anaconda-2024.02-py310",
   "language": "python",
   "name": "conda-env-anaconda-2024.02-py310-py"
  },
  "language_info": {
   "codemirror_mode": {
    "name": "ipython",
    "version": 3
   },
   "file_extension": ".py",
   "mimetype": "text/x-python",
   "name": "python",
   "nbconvert_exporter": "python",
   "pygments_lexer": "ipython3",
   "version": "3.10.14"
  }
 },
 "nbformat": 4,
 "nbformat_minor": 5
}
